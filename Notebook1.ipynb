{
  "nbformat": 4,
  "nbformat_minor": 0,
  "metadata": {
    "colab": {
      "provenance": [],
      "authorship_tag": "ABX9TyOOt+dnYE8RxM7EuYWm3b3s",
      "include_colab_link": true
    },
    "kernelspec": {
      "name": "python3",
      "display_name": "Python 3"
    },
    "language_info": {
      "name": "python"
    }
  },
  "cells": [
    {
      "cell_type": "markdown",
      "metadata": {
        "id": "view-in-github",
        "colab_type": "text"
      },
      "source": [
        "<a href=\"https://colab.research.google.com/github/PMcTwist/Machine-Learning-Course/blob/main/Notebook1.ipynb\" target=\"_parent\"><img src=\"https://colab.research.google.com/assets/colab-badge.svg\" alt=\"Open In Colab\"/></a>"
      ]
    },
    {
      "cell_type": "markdown",
      "source": [
        "\n",
        "**Importing Libs **"
      ],
      "metadata": {
        "id": "WBgWrO8dKzr1"
      }
    },
    {
      "cell_type": "code",
      "source": [
        "import pandas as pd\n",
        "import matplotlib.pyplot as plt\n",
        "import numpy as np"
      ],
      "metadata": {
        "id": "I07CXLp7FYKz"
      },
      "execution_count": 6,
      "outputs": []
    },
    {
      "cell_type": "markdown",
      "source": [
        "Initialize the dataset and define values"
      ],
      "metadata": {
        "id": "9OCU2UNjLElp"
      }
    },
    {
      "cell_type": "code",
      "source": [
        "dataset = pd.read_csv('./sample_data/california_housing_test.csv')\n",
        "X = dataset.iloc[:, :-1].values\n",
        "Y = dataset.iloc[:, -1].values"
      ],
      "metadata": {
        "id": "_IfFeI0sKX-T"
      },
      "execution_count": 8,
      "outputs": []
    },
    {
      "cell_type": "markdown",
      "source": [
        "Print out the data to the screen for funzies"
      ],
      "metadata": {
        "id": "S7VohEF4LQlQ"
      }
    },
    {
      "cell_type": "code",
      "source": [
        "print(X)"
      ],
      "metadata": {
        "colab": {
          "base_uri": "https://localhost:8080/"
        },
        "id": "g4geT5YzLUtj",
        "outputId": "6a12a4d8-1e87-44b6-a187-7a36ac07c5d3"
      },
      "execution_count": 9,
      "outputs": [
        {
          "output_type": "stream",
          "name": "stdout",
          "text": [
            "[[-122.05     37.37     27.     ... 1537.      606.        6.6085]\n",
            " [-118.3      34.26     43.     ...  809.      277.        3.599 ]\n",
            " [-117.81     33.78     27.     ... 1484.      495.        5.7934]\n",
            " ...\n",
            " [-119.7      36.3      10.     ...  693.      220.        2.2895]\n",
            " [-117.12     34.1      40.     ...   46.       14.        3.2708]\n",
            " [-119.63     34.42     42.     ...  753.      260.        8.5608]]\n"
          ]
        }
      ]
    },
    {
      "cell_type": "code",
      "source": [
        "print(Y)"
      ],
      "metadata": {
        "colab": {
          "base_uri": "https://localhost:8080/"
        },
        "id": "Izab9ahWLYHV",
        "outputId": "4859b3e4-b5bc-41c3-e105-a770250d9666"
      },
      "execution_count": 10,
      "outputs": [
        {
          "output_type": "stream",
          "name": "stdout",
          "text": [
            "[344700. 176500. 270500. ...  62000. 162500. 500001.]\n"
          ]
        }
      ]
    }
  ]
}