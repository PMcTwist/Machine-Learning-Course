{
  "nbformat": 4,
  "nbformat_minor": 0,
  "metadata": {
    "colab": {
      "provenance": [],
      "authorship_tag": "ABX9TyMA9JAYG5sFXKqklGXnK0zW",
      "include_colab_link": true
    },
    "kernelspec": {
      "name": "python3",
      "display_name": "Python 3"
    },
    "language_info": {
      "name": "python"
    }
  },
  "cells": [
    {
      "cell_type": "markdown",
      "metadata": {
        "id": "view-in-github",
        "colab_type": "text"
      },
      "source": [
        "<a href=\"https://colab.research.google.com/github/PMcTwist/Machine-Learning-Course/blob/main/Week5Question1.ipynb\" target=\"_parent\"><img src=\"https://colab.research.google.com/assets/colab-badge.svg\" alt=\"Open In Colab\"/></a>"
      ]
    },
    {
      "cell_type": "markdown",
      "source": [
        "Import Libraries"
      ],
      "metadata": {
        "id": "truuyLhWXorc"
      }
    },
    {
      "cell_type": "code",
      "execution_count": null,
      "metadata": {
        "id": "e4nalZnlXTFO"
      },
      "outputs": [],
      "source": [
        "# Basic imports\n",
        "import os\n",
        "import numpy as np\n",
        "import pandas as pd\n",
        "import matplotlib.pyplot as plt\n",
        "\n",
        "# Specific imports\n",
        "from sklearn.neighbors import KNeighborsClassifier\n",
        "from sklearn.model_selection import train_test_split\n",
        "from sklearn.preprocessing import StandardScaler\n",
        "from sklearn.metrics import confusion_matrix\n",
        "from matplotlib.colors import ListedColormap"
      ]
    },
    {
      "cell_type": "markdown",
      "source": [
        "Import Dataset"
      ],
      "metadata": {
        "id": "ni13Zk4cX1w_"
      }
    },
    {
      "cell_type": "code",
      "source": [
        "# Read the data from csv\n",
        "dataset = pd.read_csv('data.csv')\n",
        "\n",
        "# Check the data\n",
        "print(dataset.head())\n",
        "\n",
        "# Break up the two sets you want to compare\n",
        "x = dataset.iloc[:, [2,3]].values\n",
        "y = dataset.iloc[:, 4].values"
      ],
      "metadata": {
        "colab": {
          "base_uri": "https://localhost:8080/"
        },
        "id": "HcXGYJ39X3gZ",
        "outputId": "6ee97b88-14fa-481c-d8fa-31075ed6a79d"
      },
      "execution_count": null,
      "outputs": [
        {
          "output_type": "stream",
          "name": "stdout",
          "text": [
            "    User ID  Gender  Age  EstimatedSalary  Purchased\n",
            "0  15624510    Male   19            19000          0\n",
            "1  15810944    Male   35            20000          0\n",
            "2  15668575  Female   26            43000          0\n",
            "3  15603246  Female   27            57000          0\n",
            "4  15804002    Male   19            76000          0\n"
          ]
        }
      ]
    },
    {
      "cell_type": "markdown",
      "source": [
        "Split the training and test sets"
      ],
      "metadata": {
        "id": "b_9iRhuxYuwI"
      }
    },
    {
      "cell_type": "code",
      "source": [
        "# Call the train test split\n",
        "x_train, x_test, y_train, y_test = train_test_split(x, y, test_size=0.2, random_state=0)\n",
        "\n",
        "# Get the dimentions of the split\n",
        "print(f\"x Training Shape: {x_train.shape}\")\n",
        "print(f\"y Training Shape: {y_train.shape}\")\n",
        "\n"
      ],
      "metadata": {
        "id": "nZmx5SnMZEht",
        "colab": {
          "base_uri": "https://localhost:8080/"
        },
        "outputId": "c9f57e6d-dace-4c93-cde7-89b53cd62755"
      },
      "execution_count": null,
      "outputs": [
        {
          "output_type": "stream",
          "name": "stdout",
          "text": [
            "x Training Shape: (320, 2)\n",
            "y Training Shape: (320,)\n"
          ]
        }
      ]
    },
    {
      "cell_type": "markdown",
      "source": [
        "Scale the Data"
      ],
      "metadata": {
        "id": "C4dUSwwLPvdq"
      }
    },
    {
      "cell_type": "code",
      "source": [
        "# Scale the data to normalize it\n",
        "scaler = StandardScaler()\n",
        "\n",
        "# scale the data using the scaler\n",
        "x_train_scaled = scaler.fit_transform(x_train)\n",
        "\n",
        "x_test_scaled = scaler.transform(x_test)\n",
        "\n",
        "# Verfiy you did it!\n",
        "print(f\"Scaled x_training: \\n{x_train_scaled[:5]}\") # used \\n to make a new line\n",
        "print(f\"Scaled x_test: \\n{x_test_scaled[:5]}\")\n",
        "\n",
        "# Enjoy it"
      ],
      "metadata": {
        "colab": {
          "base_uri": "https://localhost:8080/"
        },
        "id": "uVEWc4sqPxIs",
        "outputId": "edbc2a9e-53af-4c45-f0f5-5904b951a94e"
      },
      "execution_count": null,
      "outputs": [
        {
          "output_type": "stream",
          "name": "stdout",
          "text": [
            "Scaled x_training: \n",
            "[[ 1.92295008  2.14601566]\n",
            " [ 2.02016082  0.3787193 ]\n",
            " [-1.3822153  -0.4324987 ]\n",
            " [-1.18779381 -1.01194013]\n",
            " [ 1.92295008 -0.92502392]]\n",
            "Scaled x_test: \n",
            "[[-0.79895082  0.49460758]\n",
            " [-0.02126485 -0.57735906]\n",
            " [-0.31289709  0.14694273]\n",
            " [-0.79895082  0.26283101]\n",
            " [-0.31289709 -0.57735906]]\n"
          ]
        }
      ]
    },
    {
      "cell_type": "markdown",
      "source": [
        "Set Your K Classifier"
      ],
      "metadata": {
        "id": "6-Z639QZaZcP"
      }
    },
    {
      "cell_type": "code",
      "source": [
        "# Set variable number for K value\n",
        "sample_size = 5\n",
        "\n",
        "# Call the model\n",
        "classifier = KNeighborsClassifier(\n",
        "    n_neighbors = sample_size,\n",
        "    metric = 'minkowski',\n",
        "    p=2\n",
        "    )\n",
        "\n",
        "# Fit the training data to the model\n",
        "classifier.fit(x_train_scaled, y_train)"
      ],
      "metadata": {
        "id": "vOAdzQUqabwK",
        "colab": {
          "base_uri": "https://localhost:8080/",
          "height": 75
        },
        "outputId": "5704c6ad-2e1d-4334-efba-2ff228521355"
      },
      "execution_count": null,
      "outputs": [
        {
          "output_type": "execute_result",
          "data": {
            "text/plain": [
              "KNeighborsClassifier()"
            ],
            "text/html": [
              "<style>#sk-container-id-1 {color: black;background-color: white;}#sk-container-id-1 pre{padding: 0;}#sk-container-id-1 div.sk-toggleable {background-color: white;}#sk-container-id-1 label.sk-toggleable__label {cursor: pointer;display: block;width: 100%;margin-bottom: 0;padding: 0.3em;box-sizing: border-box;text-align: center;}#sk-container-id-1 label.sk-toggleable__label-arrow:before {content: \"▸\";float: left;margin-right: 0.25em;color: #696969;}#sk-container-id-1 label.sk-toggleable__label-arrow:hover:before {color: black;}#sk-container-id-1 div.sk-estimator:hover label.sk-toggleable__label-arrow:before {color: black;}#sk-container-id-1 div.sk-toggleable__content {max-height: 0;max-width: 0;overflow: hidden;text-align: left;background-color: #f0f8ff;}#sk-container-id-1 div.sk-toggleable__content pre {margin: 0.2em;color: black;border-radius: 0.25em;background-color: #f0f8ff;}#sk-container-id-1 input.sk-toggleable__control:checked~div.sk-toggleable__content {max-height: 200px;max-width: 100%;overflow: auto;}#sk-container-id-1 input.sk-toggleable__control:checked~label.sk-toggleable__label-arrow:before {content: \"▾\";}#sk-container-id-1 div.sk-estimator input.sk-toggleable__control:checked~label.sk-toggleable__label {background-color: #d4ebff;}#sk-container-id-1 div.sk-label input.sk-toggleable__control:checked~label.sk-toggleable__label {background-color: #d4ebff;}#sk-container-id-1 input.sk-hidden--visually {border: 0;clip: rect(1px 1px 1px 1px);clip: rect(1px, 1px, 1px, 1px);height: 1px;margin: -1px;overflow: hidden;padding: 0;position: absolute;width: 1px;}#sk-container-id-1 div.sk-estimator {font-family: monospace;background-color: #f0f8ff;border: 1px dotted black;border-radius: 0.25em;box-sizing: border-box;margin-bottom: 0.5em;}#sk-container-id-1 div.sk-estimator:hover {background-color: #d4ebff;}#sk-container-id-1 div.sk-parallel-item::after {content: \"\";width: 100%;border-bottom: 1px solid gray;flex-grow: 1;}#sk-container-id-1 div.sk-label:hover label.sk-toggleable__label {background-color: #d4ebff;}#sk-container-id-1 div.sk-serial::before {content: \"\";position: absolute;border-left: 1px solid gray;box-sizing: border-box;top: 0;bottom: 0;left: 50%;z-index: 0;}#sk-container-id-1 div.sk-serial {display: flex;flex-direction: column;align-items: center;background-color: white;padding-right: 0.2em;padding-left: 0.2em;position: relative;}#sk-container-id-1 div.sk-item {position: relative;z-index: 1;}#sk-container-id-1 div.sk-parallel {display: flex;align-items: stretch;justify-content: center;background-color: white;position: relative;}#sk-container-id-1 div.sk-item::before, #sk-container-id-1 div.sk-parallel-item::before {content: \"\";position: absolute;border-left: 1px solid gray;box-sizing: border-box;top: 0;bottom: 0;left: 50%;z-index: -1;}#sk-container-id-1 div.sk-parallel-item {display: flex;flex-direction: column;z-index: 1;position: relative;background-color: white;}#sk-container-id-1 div.sk-parallel-item:first-child::after {align-self: flex-end;width: 50%;}#sk-container-id-1 div.sk-parallel-item:last-child::after {align-self: flex-start;width: 50%;}#sk-container-id-1 div.sk-parallel-item:only-child::after {width: 0;}#sk-container-id-1 div.sk-dashed-wrapped {border: 1px dashed gray;margin: 0 0.4em 0.5em 0.4em;box-sizing: border-box;padding-bottom: 0.4em;background-color: white;}#sk-container-id-1 div.sk-label label {font-family: monospace;font-weight: bold;display: inline-block;line-height: 1.2em;}#sk-container-id-1 div.sk-label-container {text-align: center;}#sk-container-id-1 div.sk-container {/* jupyter's `normalize.less` sets `[hidden] { display: none; }` but bootstrap.min.css set `[hidden] { display: none !important; }` so we also need the `!important` here to be able to override the default hidden behavior on the sphinx rendered scikit-learn.org. See: https://github.com/scikit-learn/scikit-learn/issues/21755 */display: inline-block !important;position: relative;}#sk-container-id-1 div.sk-text-repr-fallback {display: none;}</style><div id=\"sk-container-id-1\" class=\"sk-top-container\"><div class=\"sk-text-repr-fallback\"><pre>KNeighborsClassifier()</pre><b>In a Jupyter environment, please rerun this cell to show the HTML representation or trust the notebook. <br />On GitHub, the HTML representation is unable to render, please try loading this page with nbviewer.org.</b></div><div class=\"sk-container\" hidden><div class=\"sk-item\"><div class=\"sk-estimator sk-toggleable\"><input class=\"sk-toggleable__control sk-hidden--visually\" id=\"sk-estimator-id-1\" type=\"checkbox\" checked><label for=\"sk-estimator-id-1\" class=\"sk-toggleable__label sk-toggleable__label-arrow\">KNeighborsClassifier</label><div class=\"sk-toggleable__content\"><pre>KNeighborsClassifier()</pre></div></div></div></div></div>"
            ]
          },
          "metadata": {},
          "execution_count": 5
        }
      ]
    },
    {
      "cell_type": "markdown",
      "source": [
        "Make predictions"
      ],
      "metadata": {
        "id": "P5pR881WafBx"
      }
    },
    {
      "cell_type": "code",
      "source": [
        "# Predict outcoming using test data\n",
        "y_pred = classifier.predict(x_test_scaled)\n",
        "\n",
        "# Check out the good stuff!\n",
        "print(f\"The computer thinks y is: \\n{y_pred}\")"
      ],
      "metadata": {
        "id": "LHIr9o1SakPG",
        "colab": {
          "base_uri": "https://localhost:8080/"
        },
        "outputId": "5d1efad5-962a-47d9-e04c-5bf728ebc162"
      },
      "execution_count": null,
      "outputs": [
        {
          "output_type": "stream",
          "name": "stdout",
          "text": [
            "The computer thinks y is: \n",
            "[0 0 0 0 0 0 0 1 0 1 0 0 0 0 0 1 0 0 1 0 0 1 0 1 0 1 0 0 0 0 0 0 1 0 0 0 0\n",
            " 0 0 1 0 0 0 0 1 0 0 1 0 1 1 0 0 1 1 1 0 0 1 0 0 1 0 1 0 1 0 0 0 0 1 0 0 1\n",
            " 0 0 0 0 1 1]\n"
          ]
        }
      ]
    },
    {
      "cell_type": "markdown",
      "source": [
        "Setup the confusion matrix"
      ],
      "metadata": {
        "id": "gHg_z29PQXqL"
      }
    },
    {
      "cell_type": "code",
      "source": [
        "# Make a matrix to feed into a dataframe\n",
        "cm = confusion_matrix(y_test, y_pred)\n",
        "\n",
        "# feed the dataframe\n",
        "cm_df = pd.DataFrame(\n",
        "    cm,\n",
        "    index=['Actual 0', 'Actual 1'],\n",
        "    columns=['Predicted 0', 'Predicted 1']\n",
        "    )\n",
        "\n",
        "# Verify your happy fed dataframe\n",
        "print(\"Confusion Matrix:\")\n",
        "print(cm_df)"
      ],
      "metadata": {
        "colab": {
          "base_uri": "https://localhost:8080/"
        },
        "id": "Pj2fTePNQaeG",
        "outputId": "f1f832e7-d8e8-43b7-fce1-9dd99d57326c"
      },
      "execution_count": null,
      "outputs": [
        {
          "output_type": "stream",
          "name": "stdout",
          "text": [
            "Confusion Matrix:\n",
            "          Predicted 0  Predicted 1\n",
            "Actual 0           55            3\n",
            "Actual 1            1           21\n"
          ]
        }
      ]
    },
    {
      "cell_type": "markdown",
      "source": [
        "Make a pretty Graph"
      ],
      "metadata": {
        "id": "2SKujk2Ebc1W"
      }
    },
    {
      "cell_type": "code",
      "source": [
        "# Create a new figure\n",
        "plt.figure()\n",
        "\n",
        "# Extract features and labels from the training set\n",
        "x_set, y_set = x_train_scaled, y_train\n",
        "\n",
        "print(y_set.shape)\n",
        "\n",
        "# Create a meshgrid for feature space\n",
        "x1, x2 = np.meshgrid(np.arange(start=x_set[:, 0].min() - 1, stop=x_set[:, 0].max() + 1, step=0.01),\n",
        "                     np.arange(start=x_set[:, 1].min() - 1, stop=x_set[:, 1].max() + 1, step=0.01))\n",
        "\n",
        "# Plot decision boundary (contour plot)\n",
        "plt.contourf(x1, x2, classifier.predict(np.array([x1.ravel(), x2.ravel()]).T).reshape(x1.shape),\n",
        "             alpha=0.75, cmap=ListedColormap(('red', 'green')))\n",
        "\n",
        "# Set the plot limits\n",
        "plt.xlim(x1.min(), x1.max())\n",
        "plt.ylim(x2.min(), x2.max())\n",
        "\n",
        "# Plot data points on the graph\n",
        "for i, j in enumerate(np.unique(y_set)):\n",
        "    plt.scatter(x_set[y_set == j, 0], x_set[y_set == j, 1],\n",
        "                color=ListedColormap(('red', 'green'))(i), label=str(j))\n",
        "\n",
        "# Add labels and legend\n",
        "plt.title(f'K-NN (Train set) K={sample_size}')\n",
        "plt.xlabel('Age')\n",
        "plt.ylabel('Estimated Salary')\n",
        "plt.legend()\n",
        "\n",
        "# Adjust layout for better appearance\n",
        "plt.tight_layout()\n",
        "\n",
        "# Save the plot to a vector format file (SVG) for use in reports and presentations\n",
        "# if you are running this in Colab, the file will be saved in the files panel\n",
        "# on the left side if you do not see it there, make sure you right-click on the\n",
        "# panel, click refresh and you should see it there you can download this file\n",
        "# using the 3-dot menu on the right hand side of the filename for your reports and presentations\n",
        "plt.savefig('train_set_plot.svg', format='svg', bbox_inches='tight')\n",
        "\n",
        "# Show the plot\n",
        "plt.show()\n"
      ],
      "metadata": {
        "id": "I0NaX0Abbfo0",
        "colab": {
          "base_uri": "https://localhost:8080/",
          "height": 505
        },
        "outputId": "640b3481-601a-4a0b-8273-4ed007f69fcf"
      },
      "execution_count": null,
      "outputs": [
        {
          "output_type": "stream",
          "name": "stdout",
          "text": [
            "(320,)\n"
          ]
        },
        {
          "output_type": "display_data",
          "data": {
            "text/plain": [
              "<Figure size 640x480 with 1 Axes>"
            ],
            "image/png": "[encoded data removed]"
          },
          "metadata": {}
        }
      ]
    },
    {
      "cell_type": "markdown",
      "source": [
        "Make Another Pretty Graph"
      ],
      "metadata": {
        "id": "hG5rULrDMz94"
      }
    },
    {
      "cell_type": "code",
      "source": [
        "# Create a new figure\n",
        "plt.figure()\n",
        "\n",
        "# Extract features and labels from the training set\n",
        "x_set, y_set = x_test_scaled, y_test\n",
        "\n",
        "# Create a meshgrid for feature space\n",
        "x1, x2 = np.meshgrid(np.arange(start=x_set[:, 0].min() - 1, stop=x_set[:, 0].max() + 1, step=0.01),\n",
        "                     np.arange(start=x_set[:, 1].min() - 1, stop=x_set[:, 1].max() + 1, step=0.01))\n",
        "\n",
        "# Plot decision boundary (contour plot)\n",
        "plt.contourf(x1, x2, classifier.predict(np.array([x1.ravel(), x2.ravel()]).T).reshape(x1.shape),\n",
        "             alpha=0.75, cmap=ListedColormap(('red', 'green')))\n",
        "\n",
        "# Set the plot limits\n",
        "plt.xlim(x1.min(), x1.max())\n",
        "plt.ylim(x2.min(), x2.max())\n",
        "\n",
        "# Plot data points on the graph\n",
        "for i, j in enumerate(np.unique(y_set)):\n",
        "    plt.scatter(x_set[y_set == j, 0], x_set[y_set == j, 1],\n",
        "                color=ListedColormap(('red', 'green'))(i), label=str(j))\n",
        "\n",
        "# Add labels and legend\n",
        "plt.title(f'K-NN (Test set) K={sample_size}')\n",
        "plt.xlabel('Age')\n",
        "plt.ylabel('Estimated Salary')\n",
        "plt.legend()\n",
        "\n",
        "# Adjust layout for better appearance\n",
        "plt.tight_layout()\n",
        "\n",
        "# Save the plot to a vector format file (SVG) for use in reports and presentations\n",
        "# if you are running this in Colab, the file will be saved in the files panel\n",
        "# on the left side if you do not see it there, make sure you right-click on the\n",
        "# panel, click refresh and you should see it there you can download this file\n",
        "# using the 3-dot menu on the right hand side of the filename for your reports and presentations\n",
        "plt.savefig('test_set_plot.svg', format='svg', bbox_inches='tight')\n",
        "\n",
        "# Show the plot\n",
        "plt.show()"
      ],
      "metadata": {
        "colab": {
          "base_uri": "https://localhost:8080/",
          "height": 487
        },
        "id": "IWeqPWTxM13L",
        "outputId": "337b8e77-b747-44f8-d449-41519835c386"
      },
      "execution_count": null,
      "outputs": [
        {
          "output_type": "display_data",
          "data": {
            "text/plain": [
              "<Figure size 640x480 with 1 Axes>"
            ],
            "image/png": "[encoded data removed]"
          },
          "metadata": {}
        }
      ]
    },
    {
      "cell_type": "markdown",
      "source": [
        "Profit"
      ],
      "metadata": {
        "id": "4hyOyFBNM-9k"
      }
    }
  ]
}